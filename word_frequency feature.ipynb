{
 "cells": [
  {
   "cell_type": "code",
   "execution_count": 1,
   "metadata": {},
   "outputs": [],
   "source": [
    "import fakenewsutilities as fns\n",
    "import pandas as pd\n",
    "from sklearn.model_selection import train_test_split"
   ]
  },
  {
   "cell_type": "markdown",
   "metadata": {},
   "source": [
    "###  1. read the data, then clean the data"
   ]
  },
  {
   "cell_type": "code",
   "execution_count": 2,
   "metadata": {},
   "outputs": [],
   "source": [
    "df = pd.read_csv('tweets_labeled.csv')"
   ]
  },
  {
   "cell_type": "code",
   "execution_count": 3,
   "metadata": {},
   "outputs": [],
   "source": [
    "df_clean = fns.wash_pandas_str(df)"
   ]
  },
  {
   "cell_type": "code",
   "execution_count": 4,
   "metadata": {},
   "outputs": [
    {
     "data": {
      "text/html": [
       "<div>\n",
       "<style scoped>\n",
       "    .dataframe tbody tr th:only-of-type {\n",
       "        vertical-align: middle;\n",
       "    }\n",
       "\n",
       "    .dataframe tbody tr th {\n",
       "        vertical-align: top;\n",
       "    }\n",
       "\n",
       "    .dataframe thead th {\n",
       "        text-align: right;\n",
       "    }\n",
       "</style>\n",
       "<table border=\"1\" class=\"dataframe\">\n",
       "  <thead>\n",
       "    <tr style=\"text-align: right;\">\n",
       "      <th></th>\n",
       "      <th>tweet_id</th>\n",
       "      <th>text</th>\n",
       "      <th>label</th>\n",
       "    </tr>\n",
       "  </thead>\n",
       "  <tbody>\n",
       "    <tr>\n",
       "      <td>0</td>\n",
       "      <td>1161040537207463936</td>\n",
       "      <td>The Endangered Species Act saved the bald eagl...</td>\n",
       "      <td>1</td>\n",
       "    </tr>\n",
       "    <tr>\n",
       "      <td>1</td>\n",
       "      <td>1176360756239118342</td>\n",
       "      <td>Interesting concept -- impeach first, find fac...</td>\n",
       "      <td>1</td>\n",
       "    </tr>\n",
       "    <tr>\n",
       "      <td>2</td>\n",
       "      <td>1099036648573145088</td>\n",
       "      <td>#BuildTheWall #DeportThemAll</td>\n",
       "      <td>0</td>\n",
       "    </tr>\n",
       "    <tr>\n",
       "      <td>3</td>\n",
       "      <td>1092915693203480577</td>\n",
       "      <td>Why would the MEXICAN GOV’T fund this? Who are...</td>\n",
       "      <td>0</td>\n",
       "    </tr>\n",
       "    <tr>\n",
       "      <td>4</td>\n",
       "      <td>1149038450668187654</td>\n",
       "      <td>Sweden Announces Plan To Get 100% Of Energy Fr...</td>\n",
       "      <td>0</td>\n",
       "    </tr>\n",
       "  </tbody>\n",
       "</table>\n",
       "</div>"
      ],
      "text/plain": [
       "              tweet_id                                               text  \\\n",
       "0  1161040537207463936  The Endangered Species Act saved the bald eagl...   \n",
       "1  1176360756239118342  Interesting concept -- impeach first, find fac...   \n",
       "2  1099036648573145088                      #BuildTheWall #DeportThemAll    \n",
       "3  1092915693203480577  Why would the MEXICAN GOV’T fund this? Who are...   \n",
       "4  1149038450668187654  Sweden Announces Plan To Get 100% Of Energy Fr...   \n",
       "\n",
       "   label  \n",
       "0      1  \n",
       "1      1  \n",
       "2      0  \n",
       "3      0  \n",
       "4      0  "
      ]
     },
     "execution_count": 4,
     "metadata": {},
     "output_type": "execute_result"
    }
   ],
   "source": [
    "df_clean.head()"
   ]
  },
  {
   "cell_type": "markdown",
   "metadata": {},
   "source": [
    "### 2. Training the model"
   ]
  },
  {
   "cell_type": "code",
   "execution_count": 12,
   "metadata": {},
   "outputs": [],
   "source": [
    "# get X and Y and split the data.\n",
    "X = df_clean.iloc[:,0:2]\n",
    "Y = df_clean.iloc[:,2]\n",
    "\n",
    "X_train, X_test, Y_train, Y_test = train_test_split(X, Y, random_state = 45, test_size  = 0.3)\n",
    "\n",
    "train_df, fake_prob_prior = fns.naive_bayes_train(X_train, Y_train)"
   ]
  },
  {
   "cell_type": "markdown",
   "metadata": {},
   "source": [
    "### 3. Evaluating the model"
   ]
  },
  {
   "cell_type": "code",
   "execution_count": 13,
   "metadata": {},
   "outputs": [
    {
     "name": "stdout",
     "output_type": "stream",
     "text": [
      "1000 tested, accuracy 0.889000\n",
      "2000 tested, accuracy 0.890000\n",
      "3000 tested, accuracy 0.888667\n",
      "4000 tested, accuracy 0.887750\n",
      "5000 tested, accuracy 0.885600\n",
      "6000 tested, accuracy 0.884500\n",
      "7000 tested, accuracy 0.885000\n",
      "8000 tested, accuracy 0.884000\n",
      "9000 tested, accuracy 0.884000\n",
      "10000 tested, accuracy 0.883700\n",
      "11000 tested, accuracy 0.884273\n",
      "12000 tested, accuracy 0.885083\n",
      "13000 tested, accuracy 0.886385\n",
      "14000 tested, accuracy 0.886429\n",
      "15000 tested, accuracy 0.886600\n",
      "16000 tested, accuracy 0.886938\n",
      "17000 tested, accuracy 0.885765\n",
      "18000 tested, accuracy 0.886111\n",
      "19000 tested, accuracy 0.886421\n",
      "20000 tested, accuracy 0.886500\n",
      "21000 tested, accuracy 0.886143\n",
      "22000 tested, accuracy 0.886045\n",
      "23000 tested, accuracy 0.885652\n",
      "24000 tested, accuracy 0.884875\n",
      "25000 tested, accuracy 0.885440\n",
      "26000 tested, accuracy 0.885038\n",
      "27000 tested, accuracy 0.884926\n",
      "28000 tested, accuracy 0.885179\n",
      "29000 tested, accuracy 0.885172\n",
      "30000 tested, accuracy 0.885567\n",
      "31000 tested, accuracy 0.885806\n",
      "32000 tested, accuracy 0.885687\n",
      "33000 tested, accuracy 0.885606\n",
      "34000 tested, accuracy 0.885265\n",
      "35000 tested, accuracy 0.885314\n",
      "36000 tested, accuracy 0.885389\n",
      "37000 tested, accuracy 0.885000\n",
      "38000 tested, accuracy 0.885026\n",
      "39000 tested, accuracy 0.885179\n",
      "40000 tested, accuracy 0.885175\n",
      "41000 tested, accuracy 0.885268\n",
      "42000 tested, accuracy 0.885262\n",
      "43000 tested, accuracy 0.885000\n",
      "44000 tested, accuracy 0.885159\n",
      "45000 tested, accuracy 0.885200\n",
      "46000 tested, accuracy 0.885087\n",
      "47000 tested, accuracy 0.884255\n",
      "48000 tested, accuracy 0.884188\n",
      "49000 tested, accuracy 0.884102\n",
      "50000 tested, accuracy 0.884040\n",
      "51000 tested, accuracy 0.883882\n",
      "52000 tested, accuracy 0.883654\n",
      "53000 tested, accuracy 0.883943\n",
      "54000 tested, accuracy 0.883611\n",
      "55000 tested, accuracy 0.883618\n",
      "56000 tested, accuracy 0.883464\n",
      "57000 tested, accuracy 0.883246\n",
      "58000 tested, accuracy 0.883259\n",
      "59000 tested, accuracy 0.883373\n",
      "60000 tested, accuracy 0.883500\n",
      "61000 tested, accuracy 0.883361\n",
      "62000 tested, accuracy 0.883548\n",
      "63000 tested, accuracy 0.883540\n",
      "64000 tested, accuracy 0.883641\n",
      "65000 tested, accuracy 0.883569\n",
      "66000 tested, accuracy 0.883485\n",
      "67000 tested, accuracy 0.883716\n"
     ]
    }
   ],
   "source": [
    "Word_frequency_feature = fns.naive_bayes_generate_feature(train_df, fake_prob_prior, X_test, Y_test)"
   ]
  },
  {
   "cell_type": "markdown",
   "metadata": {},
   "source": [
    "Because the test takes a few mins to run, I add a print() in the function to print the processin and accuracy every 1000 tweets tested. \n",
    "\n",
    "In this time, I used the most high frequency 500 words as feature, accuracy is more than 88%\n",
    "\n",
    "As I tried in word_frequency_naivebayes.ipynb, the accuracy of use all words as feature is 96.6%.\n",
    "\n",
    "If we use different numbers of high-frequency words like 800 or 1000, the accuracy will also be higher."
   ]
  }
 ],
 "metadata": {
  "kernelspec": {
   "display_name": "Python 3",
   "language": "python",
   "name": "python3"
  },
  "language_info": {
   "codemirror_mode": {
    "name": "ipython",
    "version": 3
   },
   "file_extension": ".py",
   "mimetype": "text/x-python",
   "name": "python",
   "nbconvert_exporter": "python",
   "pygments_lexer": "ipython3",
   "version": "3.7.4"
  }
 },
 "nbformat": 4,
 "nbformat_minor": 2
}
